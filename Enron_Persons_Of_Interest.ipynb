{
 "cells": [
  {
   "cell_type": "markdown",
   "metadata": {},
   "source": [
    "# Identifying Enron Persons of Interest"
   ]
  },
  {
   "cell_type": "markdown",
   "metadata": {},
   "source": [
    "## Project Overview\n",
    "\n",
    "The investigation of the accounting fraud discovered in 2002 within the Enron Corporation has resulted a vast amount of otherwise confidential company information being made public.\n",
    "\n",
    "This project attempts to predict who persons of interest (POI's) are within Enron in relation to the accounting fraud that occurred. The data I am working with contains financial information and email pattern information of potential persons of interest. I will be using machine learning in order to predict whether an individual could be a person of interest based on their financial and email data.\n",
    "\n",
    "The project will involve trying a variety of different machine learning algorithms and using evaluation techniques to identify the most effective algorithm.\n",
    "\n",
    "I'll begin by loading the dictionary which contains the dataset."
   ]
  },
  {
   "cell_type": "code",
   "execution_count": 188,
   "metadata": {
    "collapsed": true
   },
   "outputs": [],
   "source": [
    "import sys\n",
    "import pickle\n",
    "sys.path.append(\"../tools/\")\n",
    "from feature_format import featureFormat, targetFeatureSplit\n",
    "\n",
    "from tester import dump_classifier_and_data, test_classifier\n",
    "\n",
    "### Load the dictionary containing the dataset\n",
    "with open(\"final_project_dataset.pkl\", \"r\") as data_file:\n",
    "    data_dict = pickle.load(data_file)\n",
    "\n"
   ]
  },
  {
   "cell_type": "markdown",
   "metadata": {},
   "source": [
    "## Data Exploration"
   ]
  },
  {
   "cell_type": "markdown",
   "metadata": {},
   "source": [
    "Now that the dataset has been loaded, I need to get an overview of the data, and to identify any potential outliers."
   ]
  },
  {
   "cell_type": "code",
   "execution_count": 189,
   "metadata": {
    "collapsed": false
   },
   "outputs": [
    {
     "name": "stdout",
     "output_type": "stream",
     "text": [
      "Number of data points: 146\n",
      "Number of features: 21\n",
      "Number of POI's in dataset: 18\n"
     ]
    }
   ],
   "source": [
    "# How many data points (people)?\n",
    "print \"Number of data points:\", len(data_dict)\n",
    "\n",
    "# For each person, how many features are available?\n",
    "print \"Number of features:\", len(data_dict[\"SKILLING JEFFREY K\"])\n",
    "\n",
    "# How many POIs are there in the E+F dataset?\n",
    "print \"Number of POI's in dataset:\", len(dict((key, value) for key, value in data_dict.items() \n",
    "                                              if value[\"poi\"] == True))\n",
    "\n"
   ]
  },
  {
   "cell_type": "markdown",
   "metadata": {},
   "source": [
    "As stated above, of the 146 people in the data set, only 18 have been identified as being a person of interest.\n",
    "\n",
    "I will take a closer look at the data by loading it into a dataframe."
   ]
  },
  {
   "cell_type": "code",
   "execution_count": 191,
   "metadata": {
    "collapsed": false
   },
   "outputs": [
    {
     "data": {
      "text/html": [
       "<div>\n",
       "<table border=\"1\" class=\"dataframe\">\n",
       "  <thead>\n",
       "    <tr style=\"text-align: right;\">\n",
       "      <th></th>\n",
       "      <th>bonus</th>\n",
       "      <th>deferral_payments</th>\n",
       "      <th>deferred_income</th>\n",
       "      <th>director_fees</th>\n",
       "      <th>email_address</th>\n",
       "      <th>exercised_stock_options</th>\n",
       "      <th>expenses</th>\n",
       "      <th>from_messages</th>\n",
       "      <th>from_poi_to_this_person</th>\n",
       "      <th>from_this_person_to_poi</th>\n",
       "      <th>...</th>\n",
       "      <th>long_term_incentive</th>\n",
       "      <th>other</th>\n",
       "      <th>poi</th>\n",
       "      <th>restricted_stock</th>\n",
       "      <th>restricted_stock_deferred</th>\n",
       "      <th>salary</th>\n",
       "      <th>shared_receipt_with_poi</th>\n",
       "      <th>to_messages</th>\n",
       "      <th>total_payments</th>\n",
       "      <th>total_stock_value</th>\n",
       "    </tr>\n",
       "  </thead>\n",
       "  <tbody>\n",
       "    <tr>\n",
       "      <th>ALLEN PHILLIP K</th>\n",
       "      <td>4175000</td>\n",
       "      <td>2869717</td>\n",
       "      <td>-3081055</td>\n",
       "      <td>NaN</td>\n",
       "      <td>NaN</td>\n",
       "      <td>1729541</td>\n",
       "      <td>13868</td>\n",
       "      <td>2195</td>\n",
       "      <td>47</td>\n",
       "      <td>65</td>\n",
       "      <td>...</td>\n",
       "      <td>304805</td>\n",
       "      <td>152</td>\n",
       "      <td>False</td>\n",
       "      <td>126027</td>\n",
       "      <td>-126027</td>\n",
       "      <td>201955</td>\n",
       "      <td>1407</td>\n",
       "      <td>2902</td>\n",
       "      <td>4484442</td>\n",
       "      <td>1729541</td>\n",
       "    </tr>\n",
       "    <tr>\n",
       "      <th>BADUM JAMES P</th>\n",
       "      <td>NaN</td>\n",
       "      <td>178980</td>\n",
       "      <td>NaN</td>\n",
       "      <td>NaN</td>\n",
       "      <td>NaN</td>\n",
       "      <td>257817</td>\n",
       "      <td>3486</td>\n",
       "      <td>NaN</td>\n",
       "      <td>NaN</td>\n",
       "      <td>NaN</td>\n",
       "      <td>...</td>\n",
       "      <td>NaN</td>\n",
       "      <td>NaN</td>\n",
       "      <td>False</td>\n",
       "      <td>NaN</td>\n",
       "      <td>NaN</td>\n",
       "      <td>NaN</td>\n",
       "      <td>NaN</td>\n",
       "      <td>NaN</td>\n",
       "      <td>182466</td>\n",
       "      <td>257817</td>\n",
       "    </tr>\n",
       "    <tr>\n",
       "      <th>BANNANTINE JAMES M</th>\n",
       "      <td>NaN</td>\n",
       "      <td>NaN</td>\n",
       "      <td>-5104</td>\n",
       "      <td>NaN</td>\n",
       "      <td>NaN</td>\n",
       "      <td>4046157</td>\n",
       "      <td>56301</td>\n",
       "      <td>29</td>\n",
       "      <td>39</td>\n",
       "      <td>0</td>\n",
       "      <td>...</td>\n",
       "      <td>NaN</td>\n",
       "      <td>864523</td>\n",
       "      <td>False</td>\n",
       "      <td>1757552</td>\n",
       "      <td>-560222</td>\n",
       "      <td>477</td>\n",
       "      <td>465</td>\n",
       "      <td>566</td>\n",
       "      <td>916197</td>\n",
       "      <td>5243487</td>\n",
       "    </tr>\n",
       "    <tr>\n",
       "      <th>BAXTER JOHN C</th>\n",
       "      <td>1200000</td>\n",
       "      <td>1295738</td>\n",
       "      <td>-1386055</td>\n",
       "      <td>NaN</td>\n",
       "      <td>NaN</td>\n",
       "      <td>6680544</td>\n",
       "      <td>11200</td>\n",
       "      <td>NaN</td>\n",
       "      <td>NaN</td>\n",
       "      <td>NaN</td>\n",
       "      <td>...</td>\n",
       "      <td>1586055</td>\n",
       "      <td>2660303</td>\n",
       "      <td>False</td>\n",
       "      <td>3942714</td>\n",
       "      <td>NaN</td>\n",
       "      <td>267102</td>\n",
       "      <td>NaN</td>\n",
       "      <td>NaN</td>\n",
       "      <td>5634343</td>\n",
       "      <td>10623258</td>\n",
       "    </tr>\n",
       "    <tr>\n",
       "      <th>BAY FRANKLIN R</th>\n",
       "      <td>400000</td>\n",
       "      <td>260455</td>\n",
       "      <td>-201641</td>\n",
       "      <td>NaN</td>\n",
       "      <td>NaN</td>\n",
       "      <td>NaN</td>\n",
       "      <td>129142</td>\n",
       "      <td>NaN</td>\n",
       "      <td>NaN</td>\n",
       "      <td>NaN</td>\n",
       "      <td>...</td>\n",
       "      <td>NaN</td>\n",
       "      <td>69</td>\n",
       "      <td>False</td>\n",
       "      <td>145796</td>\n",
       "      <td>-82782</td>\n",
       "      <td>239671</td>\n",
       "      <td>NaN</td>\n",
       "      <td>NaN</td>\n",
       "      <td>827696</td>\n",
       "      <td>63014</td>\n",
       "    </tr>\n",
       "  </tbody>\n",
       "</table>\n",
       "<p>5 rows × 21 columns</p>\n",
       "</div>"
      ],
      "text/plain": [
       "                      bonus  deferral_payments  deferred_income  \\\n",
       "ALLEN PHILLIP K     4175000            2869717         -3081055   \n",
       "BADUM JAMES P           NaN             178980              NaN   \n",
       "BANNANTINE JAMES M      NaN                NaN            -5104   \n",
       "BAXTER JOHN C       1200000            1295738         -1386055   \n",
       "BAY FRANKLIN R       400000             260455          -201641   \n",
       "\n",
       "                    director_fees  email_address  exercised_stock_options  \\\n",
       "ALLEN PHILLIP K               NaN            NaN                  1729541   \n",
       "BADUM JAMES P                 NaN            NaN                   257817   \n",
       "BANNANTINE JAMES M            NaN            NaN                  4046157   \n",
       "BAXTER JOHN C                 NaN            NaN                  6680544   \n",
       "BAY FRANKLIN R                NaN            NaN                      NaN   \n",
       "\n",
       "                    expenses  from_messages  from_poi_to_this_person  \\\n",
       "ALLEN PHILLIP K        13868           2195                       47   \n",
       "BADUM JAMES P           3486            NaN                      NaN   \n",
       "BANNANTINE JAMES M     56301             29                       39   \n",
       "BAXTER JOHN C          11200            NaN                      NaN   \n",
       "BAY FRANKLIN R        129142            NaN                      NaN   \n",
       "\n",
       "                    from_this_person_to_poi        ...          \\\n",
       "ALLEN PHILLIP K                          65        ...           \n",
       "BADUM JAMES P                           NaN        ...           \n",
       "BANNANTINE JAMES M                        0        ...           \n",
       "BAXTER JOHN C                           NaN        ...           \n",
       "BAY FRANKLIN R                          NaN        ...           \n",
       "\n",
       "                    long_term_incentive    other    poi restricted_stock  \\\n",
       "ALLEN PHILLIP K                  304805      152  False           126027   \n",
       "BADUM JAMES P                       NaN      NaN  False              NaN   \n",
       "BANNANTINE JAMES M                  NaN   864523  False          1757552   \n",
       "BAXTER JOHN C                   1586055  2660303  False          3942714   \n",
       "BAY FRANKLIN R                      NaN       69  False           145796   \n",
       "\n",
       "                    restricted_stock_deferred  salary  \\\n",
       "ALLEN PHILLIP K                       -126027  201955   \n",
       "BADUM JAMES P                             NaN     NaN   \n",
       "BANNANTINE JAMES M                    -560222     477   \n",
       "BAXTER JOHN C                             NaN  267102   \n",
       "BAY FRANKLIN R                         -82782  239671   \n",
       "\n",
       "                    shared_receipt_with_poi  to_messages  total_payments  \\\n",
       "ALLEN PHILLIP K                        1407         2902         4484442   \n",
       "BADUM JAMES P                           NaN          NaN          182466   \n",
       "BANNANTINE JAMES M                      465          566          916197   \n",
       "BAXTER JOHN C                           NaN          NaN         5634343   \n",
       "BAY FRANKLIN R                          NaN          NaN          827696   \n",
       "\n",
       "                    total_stock_value  \n",
       "ALLEN PHILLIP K               1729541  \n",
       "BADUM JAMES P                  257817  \n",
       "BANNANTINE JAMES M            5243487  \n",
       "BAXTER JOHN C                10623258  \n",
       "BAY FRANKLIN R                  63014  \n",
       "\n",
       "[5 rows x 21 columns]"
      ]
     },
     "execution_count": 191,
     "metadata": {},
     "output_type": "execute_result"
    }
   ],
   "source": [
    "import numpy as np\n",
    "import pandas as pd\n",
    "\n",
    "def dataframing(data_dict):\n",
    "\n",
    "    df = pd.DataFrame(data_dict)\n",
    "    df = df.T\n",
    "    #df = df.convert_objects(convert_numeric=True)\n",
    "    df = df.apply(pd.to_numeric, errors='coerce')\n",
    "\n",
    "    return df\n",
    "\n",
    "df = dataframing(data_dict)\n",
    "df.head()\n"
   ]
  },
  {
   "cell_type": "markdown",
   "metadata": {},
   "source": [
    "Just from the summary data above, it is apparent that there is a lot of missing data in this dataset. Lets get some exact numbers on this:"
   ]
  },
  {
   "cell_type": "code",
   "execution_count": 192,
   "metadata": {
    "collapsed": false
   },
   "outputs": [
    {
     "data": {
      "text/plain": [
       "bonus                         64\n",
       "deferral_payments            107\n",
       "deferred_income               97\n",
       "director_fees                129\n",
       "email_address                146\n",
       "exercised_stock_options       44\n",
       "expenses                      51\n",
       "from_messages                 60\n",
       "from_poi_to_this_person       60\n",
       "from_this_person_to_poi       60\n",
       "loan_advances                142\n",
       "long_term_incentive           80\n",
       "other                         53\n",
       "poi                            0\n",
       "restricted_stock              36\n",
       "restricted_stock_deferred    128\n",
       "salary                        51\n",
       "shared_receipt_with_poi       60\n",
       "to_messages                   60\n",
       "total_payments                21\n",
       "total_stock_value             20\n",
       "dtype: int64"
      ]
     },
     "execution_count": 192,
     "metadata": {},
     "output_type": "execute_result"
    }
   ],
   "source": [
    "df.isnull().sum() "
   ]
  },
  {
   "cell_type": "markdown",
   "metadata": {},
   "source": [
    "As above, deferral_payments, director_fees, loan_advances, restricted_stock_deferred, deferred_income, and long_term_incentive all seem to have a high number of missing values. Total_stock_value, total_payments, restricted_stock and exercised_stock_options all seem to be relatively more complete."
   ]
  },
  {
   "cell_type": "code",
   "execution_count": 193,
   "metadata": {
    "collapsed": false
   },
   "outputs": [
    {
     "name": "stdout",
     "output_type": "stream",
     "text": [
      "bonus                        float64\n",
      "deferral_payments            float64\n",
      "deferred_income              float64\n",
      "director_fees                float64\n",
      "email_address                float64\n",
      "exercised_stock_options      float64\n",
      "expenses                     float64\n",
      "from_messages                float64\n",
      "from_poi_to_this_person      float64\n",
      "from_this_person_to_poi      float64\n",
      "loan_advances                float64\n",
      "long_term_incentive          float64\n",
      "other                        float64\n",
      "poi                             bool\n",
      "restricted_stock             float64\n",
      "restricted_stock_deferred    float64\n",
      "salary                       float64\n",
      "shared_receipt_with_poi      float64\n",
      "to_messages                  float64\n",
      "total_payments               float64\n",
      "total_stock_value            float64\n",
      "dtype: object\n"
     ]
    },
    {
     "data": {
      "text/html": [
       "<div>\n",
       "<table border=\"1\" class=\"dataframe\">\n",
       "  <thead>\n",
       "    <tr style=\"text-align: right;\">\n",
       "      <th></th>\n",
       "      <th>bonus</th>\n",
       "      <th>deferral_payments</th>\n",
       "      <th>deferred_income</th>\n",
       "      <th>director_fees</th>\n",
       "      <th>email_address</th>\n",
       "      <th>exercised_stock_options</th>\n",
       "      <th>expenses</th>\n",
       "      <th>from_messages</th>\n",
       "      <th>from_poi_to_this_person</th>\n",
       "      <th>from_this_person_to_poi</th>\n",
       "      <th>...</th>\n",
       "      <th>long_term_incentive</th>\n",
       "      <th>other</th>\n",
       "      <th>poi</th>\n",
       "      <th>restricted_stock</th>\n",
       "      <th>restricted_stock_deferred</th>\n",
       "      <th>salary</th>\n",
       "      <th>shared_receipt_with_poi</th>\n",
       "      <th>to_messages</th>\n",
       "      <th>total_payments</th>\n",
       "      <th>total_stock_value</th>\n",
       "    </tr>\n",
       "  </thead>\n",
       "  <tbody>\n",
       "    <tr>\n",
       "      <th>count</th>\n",
       "      <td>82.000000</td>\n",
       "      <td>39.000000</td>\n",
       "      <td>49.000000</td>\n",
       "      <td>17.000000</td>\n",
       "      <td>0</td>\n",
       "      <td>1.020000e+02</td>\n",
       "      <td>95.000000</td>\n",
       "      <td>86.000000</td>\n",
       "      <td>86.000000</td>\n",
       "      <td>86.000000</td>\n",
       "      <td>...</td>\n",
       "      <td>66.000000</td>\n",
       "      <td>93.000000</td>\n",
       "      <td>146</td>\n",
       "      <td>1.100000e+02</td>\n",
       "      <td>18.000000</td>\n",
       "      <td>95.000000</td>\n",
       "      <td>86.000000</td>\n",
       "      <td>86.000000</td>\n",
       "      <td>1.250000e+02</td>\n",
       "      <td>1.260000e+02</td>\n",
       "    </tr>\n",
       "    <tr>\n",
       "      <th>mean</th>\n",
       "      <td>2374234.609756</td>\n",
       "      <td>1642674.153846</td>\n",
       "      <td>-1140475.142857</td>\n",
       "      <td>166804.882353</td>\n",
       "      <td>NaN</td>\n",
       "      <td>5.987054e+06</td>\n",
       "      <td>108728.915789</td>\n",
       "      <td>608.790698</td>\n",
       "      <td>64.895349</td>\n",
       "      <td>41.232558</td>\n",
       "      <td>...</td>\n",
       "      <td>1470361.454545</td>\n",
       "      <td>919064.967742</td>\n",
       "      <td>0.123288</td>\n",
       "      <td>2.321741e+06</td>\n",
       "      <td>166410.555556</td>\n",
       "      <td>562194.294737</td>\n",
       "      <td>1176.465116</td>\n",
       "      <td>2073.860465</td>\n",
       "      <td>5.081526e+06</td>\n",
       "      <td>6.773957e+06</td>\n",
       "    </tr>\n",
       "    <tr>\n",
       "      <th>std</th>\n",
       "      <td>10713327.969046</td>\n",
       "      <td>5161929.973575</td>\n",
       "      <td>4025406.378506</td>\n",
       "      <td>319891.409747</td>\n",
       "      <td>NaN</td>\n",
       "      <td>3.106201e+07</td>\n",
       "      <td>533534.814109</td>\n",
       "      <td>1841.033949</td>\n",
       "      <td>86.979244</td>\n",
       "      <td>100.073111</td>\n",
       "      <td>...</td>\n",
       "      <td>5942759.315498</td>\n",
       "      <td>4589252.907638</td>\n",
       "      <td>0.329899</td>\n",
       "      <td>1.251828e+07</td>\n",
       "      <td>4201494.314703</td>\n",
       "      <td>2716369.154553</td>\n",
       "      <td>1178.317641</td>\n",
       "      <td>2582.700981</td>\n",
       "      <td>2.906172e+07</td>\n",
       "      <td>3.895777e+07</td>\n",
       "    </tr>\n",
       "    <tr>\n",
       "      <th>min</th>\n",
       "      <td>70000.000000</td>\n",
       "      <td>-102500.000000</td>\n",
       "      <td>-27992891.000000</td>\n",
       "      <td>3285.000000</td>\n",
       "      <td>NaN</td>\n",
       "      <td>3.285000e+03</td>\n",
       "      <td>148.000000</td>\n",
       "      <td>12.000000</td>\n",
       "      <td>0.000000</td>\n",
       "      <td>0.000000</td>\n",
       "      <td>...</td>\n",
       "      <td>69223.000000</td>\n",
       "      <td>2.000000</td>\n",
       "      <td>False</td>\n",
       "      <td>-2.604490e+06</td>\n",
       "      <td>-7576788.000000</td>\n",
       "      <td>477.000000</td>\n",
       "      <td>2.000000</td>\n",
       "      <td>57.000000</td>\n",
       "      <td>1.480000e+02</td>\n",
       "      <td>-4.409300e+04</td>\n",
       "    </tr>\n",
       "    <tr>\n",
       "      <th>25%</th>\n",
       "      <td>431250.000000</td>\n",
       "      <td>81573.000000</td>\n",
       "      <td>-694862.000000</td>\n",
       "      <td>98784.000000</td>\n",
       "      <td>NaN</td>\n",
       "      <td>5.278862e+05</td>\n",
       "      <td>22614.000000</td>\n",
       "      <td>22.750000</td>\n",
       "      <td>10.000000</td>\n",
       "      <td>1.000000</td>\n",
       "      <td>...</td>\n",
       "      <td>281250.000000</td>\n",
       "      <td>1215.000000</td>\n",
       "      <td>0</td>\n",
       "      <td>2.540180e+05</td>\n",
       "      <td>-389621.750000</td>\n",
       "      <td>211816.000000</td>\n",
       "      <td>249.750000</td>\n",
       "      <td>541.250000</td>\n",
       "      <td>3.944750e+05</td>\n",
       "      <td>4.945102e+05</td>\n",
       "    </tr>\n",
       "    <tr>\n",
       "      <th>50%</th>\n",
       "      <td>769375.000000</td>\n",
       "      <td>227449.000000</td>\n",
       "      <td>-159792.000000</td>\n",
       "      <td>108579.000000</td>\n",
       "      <td>NaN</td>\n",
       "      <td>1.310814e+06</td>\n",
       "      <td>46950.000000</td>\n",
       "      <td>41.000000</td>\n",
       "      <td>35.000000</td>\n",
       "      <td>8.000000</td>\n",
       "      <td>...</td>\n",
       "      <td>442035.000000</td>\n",
       "      <td>52382.000000</td>\n",
       "      <td>0</td>\n",
       "      <td>4.517400e+05</td>\n",
       "      <td>-146975.000000</td>\n",
       "      <td>259996.000000</td>\n",
       "      <td>740.500000</td>\n",
       "      <td>1211.000000</td>\n",
       "      <td>1.101393e+06</td>\n",
       "      <td>1.102872e+06</td>\n",
       "    </tr>\n",
       "    <tr>\n",
       "      <th>75%</th>\n",
       "      <td>1200000.000000</td>\n",
       "      <td>1002671.500000</td>\n",
       "      <td>-38346.000000</td>\n",
       "      <td>113784.000000</td>\n",
       "      <td>NaN</td>\n",
       "      <td>2.547724e+06</td>\n",
       "      <td>79952.500000</td>\n",
       "      <td>145.500000</td>\n",
       "      <td>72.250000</td>\n",
       "      <td>24.750000</td>\n",
       "      <td>...</td>\n",
       "      <td>938672.000000</td>\n",
       "      <td>362096.000000</td>\n",
       "      <td>0</td>\n",
       "      <td>1.002370e+06</td>\n",
       "      <td>-75009.750000</td>\n",
       "      <td>312117.000000</td>\n",
       "      <td>1888.250000</td>\n",
       "      <td>2634.750000</td>\n",
       "      <td>2.093263e+06</td>\n",
       "      <td>2.949847e+06</td>\n",
       "    </tr>\n",
       "    <tr>\n",
       "      <th>max</th>\n",
       "      <td>97343619.000000</td>\n",
       "      <td>32083396.000000</td>\n",
       "      <td>-833.000000</td>\n",
       "      <td>1398517.000000</td>\n",
       "      <td>NaN</td>\n",
       "      <td>3.117640e+08</td>\n",
       "      <td>5235198.000000</td>\n",
       "      <td>14368.000000</td>\n",
       "      <td>528.000000</td>\n",
       "      <td>609.000000</td>\n",
       "      <td>...</td>\n",
       "      <td>48521928.000000</td>\n",
       "      <td>42667589.000000</td>\n",
       "      <td>True</td>\n",
       "      <td>1.303223e+08</td>\n",
       "      <td>15456290.000000</td>\n",
       "      <td>26704229.000000</td>\n",
       "      <td>5521.000000</td>\n",
       "      <td>15149.000000</td>\n",
       "      <td>3.098866e+08</td>\n",
       "      <td>4.345095e+08</td>\n",
       "    </tr>\n",
       "  </tbody>\n",
       "</table>\n",
       "<p>8 rows × 21 columns</p>\n",
       "</div>"
      ],
      "text/plain": [
       "                 bonus  deferral_payments  deferred_income   director_fees  \\\n",
       "count        82.000000          39.000000        49.000000       17.000000   \n",
       "mean    2374234.609756     1642674.153846  -1140475.142857   166804.882353   \n",
       "std    10713327.969046     5161929.973575   4025406.378506   319891.409747   \n",
       "min       70000.000000     -102500.000000 -27992891.000000     3285.000000   \n",
       "25%      431250.000000       81573.000000   -694862.000000    98784.000000   \n",
       "50%      769375.000000      227449.000000   -159792.000000   108579.000000   \n",
       "75%     1200000.000000     1002671.500000    -38346.000000   113784.000000   \n",
       "max    97343619.000000    32083396.000000      -833.000000  1398517.000000   \n",
       "\n",
       "       email_address  exercised_stock_options        expenses  from_messages  \\\n",
       "count              0             1.020000e+02       95.000000      86.000000   \n",
       "mean             NaN             5.987054e+06   108728.915789     608.790698   \n",
       "std              NaN             3.106201e+07   533534.814109    1841.033949   \n",
       "min              NaN             3.285000e+03      148.000000      12.000000   \n",
       "25%              NaN             5.278862e+05    22614.000000      22.750000   \n",
       "50%              NaN             1.310814e+06    46950.000000      41.000000   \n",
       "75%              NaN             2.547724e+06    79952.500000     145.500000   \n",
       "max              NaN             3.117640e+08  5235198.000000   14368.000000   \n",
       "\n",
       "       from_poi_to_this_person  from_this_person_to_poi        ...          \\\n",
       "count                86.000000                86.000000        ...           \n",
       "mean                 64.895349                41.232558        ...           \n",
       "std                  86.979244               100.073111        ...           \n",
       "min                   0.000000                 0.000000        ...           \n",
       "25%                  10.000000                 1.000000        ...           \n",
       "50%                  35.000000                 8.000000        ...           \n",
       "75%                  72.250000                24.750000        ...           \n",
       "max                 528.000000               609.000000        ...           \n",
       "\n",
       "       long_term_incentive            other       poi restricted_stock  \\\n",
       "count            66.000000        93.000000       146     1.100000e+02   \n",
       "mean        1470361.454545    919064.967742  0.123288     2.321741e+06   \n",
       "std         5942759.315498   4589252.907638  0.329899     1.251828e+07   \n",
       "min           69223.000000         2.000000     False    -2.604490e+06   \n",
       "25%          281250.000000      1215.000000         0     2.540180e+05   \n",
       "50%          442035.000000     52382.000000         0     4.517400e+05   \n",
       "75%          938672.000000    362096.000000         0     1.002370e+06   \n",
       "max        48521928.000000  42667589.000000      True     1.303223e+08   \n",
       "\n",
       "       restricted_stock_deferred           salary  shared_receipt_with_poi  \\\n",
       "count                  18.000000        95.000000                86.000000   \n",
       "mean               166410.555556    562194.294737              1176.465116   \n",
       "std               4201494.314703   2716369.154553              1178.317641   \n",
       "min              -7576788.000000       477.000000                 2.000000   \n",
       "25%               -389621.750000    211816.000000               249.750000   \n",
       "50%               -146975.000000    259996.000000               740.500000   \n",
       "75%                -75009.750000    312117.000000              1888.250000   \n",
       "max              15456290.000000  26704229.000000              5521.000000   \n",
       "\n",
       "        to_messages  total_payments  total_stock_value  \n",
       "count     86.000000    1.250000e+02       1.260000e+02  \n",
       "mean    2073.860465    5.081526e+06       6.773957e+06  \n",
       "std     2582.700981    2.906172e+07       3.895777e+07  \n",
       "min       57.000000    1.480000e+02      -4.409300e+04  \n",
       "25%      541.250000    3.944750e+05       4.945102e+05  \n",
       "50%     1211.000000    1.101393e+06       1.102872e+06  \n",
       "75%     2634.750000    2.093263e+06       2.949847e+06  \n",
       "max    15149.000000    3.098866e+08       4.345095e+08  \n",
       "\n",
       "[8 rows x 21 columns]"
      ]
     },
     "execution_count": 193,
     "metadata": {},
     "output_type": "execute_result"
    }
   ],
   "source": [
    "print df.dtypes\n",
    "\n",
    "df.describe()"
   ]
  },
  {
   "cell_type": "markdown",
   "metadata": {},
   "source": [
    "From the summary data above it looks like there may be some outliers within the data set. These will be explored further in the following section.\n",
    "\n",
    "I will be selecting from all features in the dataset except for the email address feature."
   ]
  },
  {
   "cell_type": "code",
   "execution_count": 194,
   "metadata": {
    "collapsed": false
   },
   "outputs": [],
   "source": [
    "### Task 1: Select what features you'll use.\n",
    "### features_list is a list of strings, each of which is a feature name.\n",
    "### The first feature must be \"poi\".\n",
    "\n",
    "\n",
    "features_list = ['poi',\n",
    "                'bonus',\n",
    "                'deferral_payments',\n",
    "                'deferred_income',\n",
    "                'director_fees',\n",
    "                'exercised_stock_options',\n",
    "                'expenses',\n",
    "                'from_messages',\n",
    "                'from_poi_to_this_person',\n",
    "                'from_this_person_to_poi',\n",
    "                'loan_advances',\n",
    "                'long_term_incentive',\n",
    "                'other',\n",
    "                'restricted_stock',\n",
    "                'restricted_stock_deferred',\n",
    "                'salary',\n",
    "                'shared_receipt_with_poi',\n",
    "                'to_messages',\n",
    "                'total_payments',\n",
    "                'total_stock_value'\n",
    "               ]\n"
   ]
  },
  {
   "cell_type": "markdown",
   "metadata": {},
   "source": [
    "## Outlier Investigation\n",
    "\n",
    "I'll start by removing the 'total' row from the list of names, which was identified in the mini project of the course."
   ]
  },
  {
   "cell_type": "code",
   "execution_count": 195,
   "metadata": {
    "collapsed": false
   },
   "outputs": [],
   "source": [
    "data_dict.pop(\"TOTAL\",0)\n",
    "df = dataframing(data_dict)"
   ]
  },
  {
   "cell_type": "markdown",
   "metadata": {},
   "source": [
    "Although not strictly an outlier, I'll check to see if there are any rows with NaN for every columns except POI (this column had no null values)."
   ]
  },
  {
   "cell_type": "code",
   "execution_count": 196,
   "metadata": {
    "collapsed": false
   },
   "outputs": [
    {
     "name": "stdout",
     "output_type": "stream",
     "text": [
      "LOCKHART EUGENE E\n"
     ]
    }
   ],
   "source": [
    "#df.isnull().sum(axis=1)\n",
    "\n",
    "for key, value in data_dict.items():\n",
    "    count = 0\n",
    "    for newkey, newvalue in value.items():\n",
    "        if value[newkey] == \"NaN\":\n",
    "            count += 1\n",
    "    if count >= 20:\n",
    "        print key\n"
   ]
  },
  {
   "cell_type": "markdown",
   "metadata": {},
   "source": [
    "There is only one row with NaN's for every column except POI. This row can be removed from the data set."
   ]
  },
  {
   "cell_type": "code",
   "execution_count": 197,
   "metadata": {
    "collapsed": false
   },
   "outputs": [],
   "source": [
    "data_dict.pop(\"LOCKHART EUGENE E\",0)\n",
    "df = dataframing(data_dict)"
   ]
  },
  {
   "cell_type": "markdown",
   "metadata": {},
   "source": [
    "Next I will look for outliers within the individual features. \n",
    "\n",
    "The features can be roughly split into pay related/financial features and email related features. It is likely that most of the financial features will have valid outliers, since those higher up in the company are likely to have disproportionally higher financial rewards.\n",
    "\n",
    "After creating a function for a scatterplot, I'll pair up the financial features and check for outliers in the data."
   ]
  },
  {
   "cell_type": "code",
   "execution_count": 198,
   "metadata": {
    "collapsed": false
   },
   "outputs": [
    {
     "name": "stdout",
     "output_type": "stream",
     "text": [
      "Populating the interactive namespace from numpy and matplotlib\n"
     ]
    },
    {
     "name": "stderr",
     "output_type": "stream",
     "text": [
      "WARNING: pylab import has clobbered these variables: ['clf']\n",
      "`%matplotlib` prevents importing * from pylab and numpy\n"
     ]
    }
   ],
   "source": [
    "import matplotlib.pyplot\n",
    "\n",
    "%pylab inline\n",
    "\n",
    "\n",
    "data_check = featureFormat(data_dict, features_list)\n",
    "\n",
    "def scatteroutliers(bonus, salary):\n",
    "            \n",
    "    for point in data_check:\n",
    "        if point[0] == 1:\n",
    "            pyplot.scatter(point[features_list.index(str(bonus))], point[features_list.index(str(salary))], c='r')\n",
    "        else:\n",
    "            pyplot.scatter(point[features_list.index(str(bonus))], point[features_list.index(str(salary))], c='b')\n",
    "    \n",
    "        \n",
    "    pyplot.xlabel(bonus)\n",
    "    pyplot.ylabel(salary)\n",
    "    #pyplot.show()\n",
    "    return pyplot"
   ]
  },
  {
   "cell_type": "code",
   "execution_count": 199,
   "metadata": {
    "collapsed": false
   },
   "outputs": [
    {
     "data": {
      "image/png": "[encoded data removed]",
      "text/plain": [
       "<matplotlib.figure.Figure at 0x1f467550>"
      ]
     },
     "metadata": {},
     "output_type": "display_data"
    }
   ],
   "source": [
    "fig = pyplot.figure(figsize=(15, 20))\n",
    "\n",
    "ax1 = fig.add_subplot(321)\n",
    "scatteroutliers('total_payments', 'total_stock_value')\n",
    "\n",
    "ax2 = fig.add_subplot(322)\n",
    "scatteroutliers('bonus', 'salary') \n",
    "\n",
    "ax3 = fig.add_subplot(323)\n",
    "scatteroutliers('deferral_payments','deferred_income')\n",
    "\n",
    "ax4 = fig.add_subplot(324)\n",
    "scatteroutliers('exercised_stock_options','expenses')\n",
    "\n",
    "ax5 = fig.add_subplot(325)\n",
    "scatteroutliers('other','long_term_incentive')\n",
    "\n",
    "ax6 = fig.add_subplot(326)\n",
    "scatteroutliers('restricted_stock','restricted_stock_deferred')\n",
    "\n",
    "pyplot.tight_layout()"
   ]
  },
  {
   "cell_type": "markdown",
   "metadata": {},
   "source": [
    "There is one financial feature left to look at, the feature with the fewest datapoints- the loan advances feature, which I will plot against POI."
   ]
  },
  {
   "cell_type": "code",
   "execution_count": 107,
   "metadata": {
    "collapsed": false
   },
   "outputs": [
    {
     "data": {
      "image/png": "[encoded data removed]",
      "text/plain": [
       "<matplotlib.figure.Figure at 0x2357eac8>"
      ]
     },
     "metadata": {},
     "output_type": "display_data"
    }
   ],
   "source": [
    "scatteroutliers('loan_advances', 'poi').show()"
   ]
  },
  {
   "cell_type": "markdown",
   "metadata": {},
   "source": [
    "From the above charts, any outliers relating to POI's I will accept as being correct, since their financial compensation is likely to be disproportionally greater than others. However there are a few non POI outliers that stand out.\n",
    "\n",
    "Notable outliers were found in the deferral payments and restricted stock deferred features.\n",
    "\n",
    "Taking a look at these exact entries more closely gives the following data:"
   ]
  },
  {
   "cell_type": "code",
   "execution_count": 200,
   "metadata": {
    "collapsed": false
   },
   "outputs": [
    {
     "name": "stdout",
     "output_type": "stream",
     "text": [
      "bonus                              2e+06\n",
      "deferral_payments            6.42699e+06\n",
      "deferred_income             -3.36701e+06\n",
      "director_fees                        NaN\n",
      "email_address                        NaN\n",
      "exercised_stock_options      1.04335e+07\n",
      "expenses                           86987\n",
      "from_messages                         21\n",
      "from_poi_to_this_person              242\n",
      "from_this_person_to_poi                6\n",
      "loan_advances                      2e+06\n",
      "long_term_incentive          1.61701e+06\n",
      "other                        7.42762e+06\n",
      "poi                                False\n",
      "restricted_stock             4.18867e+06\n",
      "restricted_stock_deferred            NaN\n",
      "salary                       1.06093e+06\n",
      "shared_receipt_with_poi             2979\n",
      "to_messages                         3275\n",
      "total_payments               1.72525e+07\n",
      "total_stock_value            1.46222e+07\n",
      "Name: FREVERT MARK A, dtype: object\n"
     ]
    }
   ],
   "source": [
    "for key, value in data_dict.items():\n",
    "    if value['deferral_payments'] > 6000000 and value['deferral_payments'] != 'NaN':\n",
    "        print df.loc[key]"
   ]
  },
  {
   "cell_type": "code",
   "execution_count": 201,
   "metadata": {
    "collapsed": false
   },
   "outputs": [
    {
     "name": "stdout",
     "output_type": "stream",
     "text": [
      "bonus                                NaN\n",
      "deferral_payments                    NaN\n",
      "deferred_income                      NaN\n",
      "director_fees                     137864\n",
      "email_address                        NaN\n",
      "exercised_stock_options      2.60449e+06\n",
      "expenses                             NaN\n",
      "from_messages                         29\n",
      "from_poi_to_this_person                0\n",
      "from_this_person_to_poi                1\n",
      "loan_advances                        NaN\n",
      "long_term_incentive                  NaN\n",
      "other                             137864\n",
      "poi                                False\n",
      "restricted_stock            -2.60449e+06\n",
      "restricted_stock_deferred    1.54563e+07\n",
      "salary                               NaN\n",
      "shared_receipt_with_poi              463\n",
      "to_messages                          523\n",
      "total_payments               1.54563e+07\n",
      "total_stock_value                    NaN\n",
      "Name: BHATNAGAR SANJAY, dtype: object\n"
     ]
    }
   ],
   "source": [
    "for key, value in data_dict.items():\n",
    "    if value['restricted_stock_deferred'] > 15000000 and value['restricted_stock_deferred'] != 'NaN':\n",
    "        print df.loc[key]"
   ]
  },
  {
   "cell_type": "markdown",
   "metadata": {},
   "source": [
    "Comparing the above to the PDF of the raw data, the information for Mark Frevert looks to be correct however the data for Sanjay Bhatnagar is incorrect. It looks as though this individual's figures had been shifted to the left by one column causing the total payments, and stock information to also be incorrect. I will therefore update the information and reload the information into a dataframe:"
   ]
  },
  {
   "cell_type": "code",
   "execution_count": 202,
   "metadata": {
    "collapsed": false
   },
   "outputs": [],
   "source": [
    "data_dict['BHATNAGAR SANJAY']['other'] = 'NaN'\n",
    "data_dict['BHATNAGAR SANJAY']['expenses'] = 137864\n",
    "data_dict['BHATNAGAR SANJAY']['director_fees'] = 'NaN'\n",
    "data_dict['BHATNAGAR SANJAY']['total_payments'] = 137864\n",
    "data_dict['BHATNAGAR SANJAY']['exercised_stock_options'] = 15456290\n",
    "data_dict['BHATNAGAR SANJAY']['restricted_stock'] = 2604490\n",
    "data_dict['BHATNAGAR SANJAY']['restricted_stock_deferred'] = -2604490\n",
    "data_dict['BHATNAGAR SANJAY']['total_stock_value'] = 15456290\n",
    "\n",
    "df = dataframing(data_dict)"
   ]
  },
  {
   "cell_type": "markdown",
   "metadata": {},
   "source": [
    "Checking that the information has been correctly updated:"
   ]
  },
  {
   "cell_type": "code",
   "execution_count": 203,
   "metadata": {
    "collapsed": false
   },
   "outputs": [
    {
     "data": {
      "text/plain": [
       "bonus                                NaN\n",
       "deferral_payments                    NaN\n",
       "deferred_income                      NaN\n",
       "director_fees                        NaN\n",
       "email_address                        NaN\n",
       "exercised_stock_options      1.54563e+07\n",
       "expenses                          137864\n",
       "from_messages                         29\n",
       "from_poi_to_this_person                0\n",
       "from_this_person_to_poi                1\n",
       "loan_advances                        NaN\n",
       "long_term_incentive                  NaN\n",
       "other                                NaN\n",
       "poi                                False\n",
       "restricted_stock             2.60449e+06\n",
       "restricted_stock_deferred   -2.60449e+06\n",
       "salary                               NaN\n",
       "shared_receipt_with_poi              463\n",
       "to_messages                          523\n",
       "total_payments                    137864\n",
       "total_stock_value            1.54563e+07\n",
       "Name: BHATNAGAR SANJAY, dtype: object"
      ]
     },
     "execution_count": 203,
     "metadata": {},
     "output_type": "execute_result"
    }
   ],
   "source": [
    "df.loc['BHATNAGAR SANJAY']"
   ]
  },
  {
   "cell_type": "markdown",
   "metadata": {},
   "source": [
    "This now looks to be correct. I'll now take a closer look at the features I will be using in the algorithm.\n",
    "\n",
    "## New Features\n",
    "\n",
    "A feature I think may be helpful in identifying a person of interest related to email information. If an individual has a high number of emails to/from a POI then perhaps this person is also a POI?\n",
    "\n",
    "Looking at these numbers in proportion to the total number of emails sent and recieved may also provide some interesting information. \n",
    "\n",
    "I am going to create three new features relating to emails:\n",
    "1. Ratio of emails sent from a POI to this person\n",
    "2. Ratio of emails sent to a POI from this person\n",
    "3. The aggregate of the above.\n"
   ]
  },
  {
   "cell_type": "code",
   "execution_count": 204,
   "metadata": {
    "collapsed": false
   },
   "outputs": [],
   "source": [
    "### Task 3: Create new feature(s)\n",
    "### Store to my_dataset for easy export below.\n",
    "my_dataset = data_dict\n",
    "\n",
    "for name, item in my_dataset.items():\n",
    "    my_dataset[name]['poi_email_pct'] = 0\n",
    "    my_dataset[name]['from_poi_pct'] = 0\n",
    "    my_dataset[name]['to_poi_pct'] = 0\n",
    "    total_messages = item['from_messages'] + item['to_messages']\n",
    "    if total_messages != 0 and item['from_poi_to_this_person'] != 'NaN' and item['from_this_person_to_poi'] != 'NaN':\n",
    "        my_dataset[name]['poi_email_pct'] = ((float(item['from_poi_to_this_person'])+\n",
    "                                              float(item['from_this_person_to_poi']))/\n",
    "                                         (float(total_messages)))\n",
    "        if item['from_messages'] != 0:\n",
    "            my_dataset[name]['from_poi_pct'] = (float(item['from_poi_to_this_person'])/\n",
    "                                         float(item['to_messages']))\n",
    "        if item['to_messages'] != 0:\n",
    "            my_dataset[name]['to_poi_pct'] = (float(item['from_this_person_to_poi'])/\n",
    "                                         float(item['from_messages']))"
   ]
  },
  {
   "cell_type": "code",
   "execution_count": 205,
   "metadata": {
    "collapsed": false
   },
   "outputs": [
    {
     "name": "stdout",
     "output_type": "stream",
     "text": [
      "Aggregated Summary:\n",
      "count    144.000000\n",
      "mean       0.028493\n",
      "std        0.042827\n",
      "min        0.000000\n",
      "25%        0.000000\n",
      "50%        0.008772\n",
      "75%        0.043337\n",
      "max        0.224352\n",
      "Name: poi_email_pct, dtype: float64\n",
      "Emails From POI Summary:\n",
      "count    144.000000\n",
      "mean       0.022672\n",
      "std        0.036417\n",
      "min        0.000000\n",
      "25%        0.000000\n",
      "50%        0.004952\n",
      "75%        0.029918\n",
      "max        0.217341\n",
      "Name: from_poi_pct, dtype: float64\n",
      "Emails To POI Summary:\n",
      "count    144.000000\n",
      "mean       0.109922\n",
      "std        0.185935\n",
      "min        0.000000\n",
      "25%        0.000000\n",
      "50%        0.000000\n",
      "75%        0.198827\n",
      "max        1.000000\n",
      "Name: to_poi_pct, dtype: float64\n"
     ]
    }
   ],
   "source": [
    "df = dataframing(my_dataset)\n",
    "print 'Aggregated Summary:'\n",
    "print df['poi_email_pct'].describe()\n",
    "print 'Emails From POI Summary:'\n",
    "print df['from_poi_pct'].describe()\n",
    "print 'Emails To POI Summary:'\n",
    "print df['to_poi_pct'].describe()"
   ]
  },
  {
   "cell_type": "markdown",
   "metadata": {},
   "source": [
    "## The Usage of Evaluation Metrics\n",
    "\n",
    "Throughout the testing portion of the project I will be evaluating the different models with a focus on Precision, Recall and F1 scores using the test_classifier function from tester.py.\n",
    "\n",
    "The accuracy score will also be given, however I will not focus too much on this statistic. The accuracy score is the ratio of correct predictions to total number of datapoints, however this does not make a distinction between the different classes. Also, in this case since the dataset is unbalanced (not many POIs included), so the classifier could reach high accuracy values just flagging every person as non-POI.\n",
    "\n",
    "Precision is calculated using the following equation:\n",
    "\n",
    "true positives / (true positives + false positives)\n",
    "\n",
    "This is a measure of exactness, and calculates the percentage of correct positive classifications from the dataset. In the context of this project, it will tell us the percentage of POI's our model has correctly identified from the total number it has identified as POI.\n",
    "\n",
    "Recall on the other hand looks at the completeness of your predictions, the percentage of true positives based on the total number of positive class values in the data and is defined by the following equation:\n",
    "\n",
    "true positives/(true positives+ false negatives)\n",
    "\n",
    "In the context of this project it will tell us the percentage of POI's identified based on the total number of POI's in the dataset.\n",
    "\n",
    "Finally I will also look at the F1 score, given by the following equation:\n",
    "2x((precision x recall)/(precision + recall))\n",
    "\n",
    "This is the harmonic mean between the two scores.\n",
    "\n"
   ]
  },
  {
   "cell_type": "markdown",
   "metadata": {},
   "source": [
    "## Feature Selection\n",
    "\n",
    "I am now ready to select features I will be using in my chosen algorithm. \n",
    "\n",
    "I could potentially remove loan advances from the features list since  as discovered earlier, there are very few data points with this feature therefore it may not provide enough information.\n",
    "\n",
    "I will use a decision tree classifier to try and identify the importance of the different features and test their effectiveness."
   ]
  },
  {
   "cell_type": "code",
   "execution_count": 206,
   "metadata": {
    "collapsed": false
   },
   "outputs": [],
   "source": [
    "#data_check = featureFormat(my_dataset, features_list)\n",
    "\n",
    "from sklearn.tree import DecisionTreeClassifier\n",
    "from sklearn.pipeline import Pipeline\n",
    "from sklearn.preprocessing import MinMaxScaler\n",
    "\n",
    "clf = DecisionTreeClassifier()\n",
    "\n"
   ]
  },
  {
   "cell_type": "markdown",
   "metadata": {},
   "source": [
    "I'll start by first testing the complete features list (without the new features):"
   ]
  },
  {
   "cell_type": "code",
   "execution_count": 207,
   "metadata": {
    "collapsed": false
   },
   "outputs": [
    {
     "name": "stdout",
     "output_type": "stream",
     "text": [
      "DecisionTreeClassifier(class_weight=None, criterion='gini', max_depth=None,\n",
      "            max_features=None, max_leaf_nodes=None, min_samples_leaf=1,\n",
      "            min_samples_split=2, min_weight_fraction_leaf=0.0,\n",
      "            random_state=None, splitter='best')\n",
      "\tAccuracy: 0.80013\tPrecision: 0.23344\tRecall: 0.21850\tF1: 0.22572\tF2: 0.22133\n",
      "\tTotal predictions: 15000\tTrue positives:  437\tFalse positives: 1435\tFalse negatives: 1563\tTrue negatives: 11565\n",
      "\n"
     ]
    }
   ],
   "source": [
    "test_classifier(clf, my_dataset, features_list)"
   ]
  },
  {
   "cell_type": "markdown",
   "metadata": {},
   "source": [
    "The results show an accuracy rate of 0.8, and F1 score of 0.23 which I will use as a base, that I will attempt to improve upon. \n",
    "\n",
    "Next I will examine the effect of removing loan_advances from the features list:"
   ]
  },
  {
   "cell_type": "code",
   "execution_count": 155,
   "metadata": {
    "collapsed": false
   },
   "outputs": [
    {
     "name": "stdout",
     "output_type": "stream",
     "text": [
      "DecisionTreeClassifier(class_weight=None, criterion='gini', max_depth=None,\n",
      "            max_features=None, max_leaf_nodes=None, min_samples_leaf=1,\n",
      "            min_samples_split=2, min_weight_fraction_leaf=0.0,\n",
      "            random_state=None, splitter='best')\n",
      "\tAccuracy: 0.80047\tPrecision: 0.22972\tRecall: 0.21100\tF1: 0.21996\tF2: 0.21450\n",
      "\tTotal predictions: 15000\tTrue positives:  422\tFalse positives: 1415\tFalse negatives: 1578\tTrue negatives: 11585\n",
      "\n"
     ]
    }
   ],
   "source": [
    "features_list_no_loan = ['poi',\n",
    "                'bonus',\n",
    "                'deferral_payments',\n",
    "                'deferred_income',\n",
    "                'director_fees',\n",
    "                'exercised_stock_options',\n",
    "                'expenses',\n",
    "                'from_messages',\n",
    "                'from_poi_to_this_person',\n",
    "                'from_this_person_to_poi',\n",
    "                'long_term_incentive',\n",
    "                'other',\n",
    "                'restricted_stock',\n",
    "                'restricted_stock_deferred',\n",
    "                'salary',\n",
    "                'shared_receipt_with_poi',\n",
    "                'to_messages',\n",
    "                'total_payments',\n",
    "                'total_stock_value'\n",
    "               ]\n",
    "test_classifier(clf, my_dataset, features_list_no_loan)"
   ]
  },
  {
   "cell_type": "markdown",
   "metadata": {},
   "source": [
    "This slightly worsened the scores. Adding the newly created feature, 'poi_email_pct' to the list gives the following results."
   ]
  },
  {
   "cell_type": "code",
   "execution_count": 156,
   "metadata": {
    "collapsed": false
   },
   "outputs": [
    {
     "name": "stdout",
     "output_type": "stream",
     "text": [
      "DecisionTreeClassifier(class_weight=None, criterion='gini', max_depth=None,\n",
      "            max_features=None, max_leaf_nodes=None, min_samples_leaf=1,\n",
      "            min_samples_split=2, min_weight_fraction_leaf=0.0,\n",
      "            random_state=None, splitter='best')\n",
      "\tAccuracy: 0.80193\tPrecision: 0.24299\tRecall: 0.22950\tF1: 0.23605\tF2: 0.23208\n",
      "\tTotal predictions: 15000\tTrue positives:  459\tFalse positives: 1430\tFalse negatives: 1541\tTrue negatives: 11570\n",
      "\n"
     ]
    }
   ],
   "source": [
    "new_features_list = ['poi',\n",
    "                'bonus',\n",
    "                'deferral_payments',\n",
    "                'deferred_income',\n",
    "                'director_fees',\n",
    "                'exercised_stock_options',\n",
    "                'expenses',\n",
    "                'from_messages',\n",
    "                'from_poi_to_this_person',\n",
    "                'from_this_person_to_poi',\n",
    "                'loan_advances',\n",
    "                'long_term_incentive',\n",
    "                'other',\n",
    "                'restricted_stock',\n",
    "                'restricted_stock_deferred',\n",
    "                'salary',\n",
    "                'shared_receipt_with_poi',\n",
    "                'to_messages',\n",
    "                'total_payments',\n",
    "                'total_stock_value',\n",
    "                'poi_email_pct'\n",
    "               ]\n",
    "test_classifier(clf, my_dataset, new_features_list)"
   ]
  },
  {
   "cell_type": "markdown",
   "metadata": {},
   "source": [
    "Adding the aggregated 'poi_email_pct' feature to the classifier has improved the scores, next I will add the 'from_poi_pct' and 'to_poi_pct' features to the list which excludes the loan_advances feature to check for improvements in the scores:"
   ]
  },
  {
   "cell_type": "code",
   "execution_count": 163,
   "metadata": {
    "collapsed": false
   },
   "outputs": [
    {
     "name": "stdout",
     "output_type": "stream",
     "text": [
      "DecisionTreeClassifier(class_weight=None, criterion='gini', max_depth=None,\n",
      "            max_features=None, max_leaf_nodes=None, min_samples_leaf=1,\n",
      "            min_samples_split=2, min_weight_fraction_leaf=0.0,\n",
      "            random_state=None, splitter='best')\n",
      "\tAccuracy: 0.81300\tPrecision: 0.30104\tRecall: 0.30450\tF1: 0.30276\tF2: 0.30380\n",
      "\tTotal predictions: 15000\tTrue positives:  609\tFalse positives: 1414\tFalse negatives: 1391\tTrue negatives: 11586\n",
      "\n"
     ]
    }
   ],
   "source": [
    "to_from_features_list = ['poi',\n",
    "                'bonus',\n",
    "                'deferral_payments',\n",
    "                'deferred_income',\n",
    "                'director_fees',\n",
    "                'exercised_stock_options',\n",
    "                'expenses',\n",
    "                'from_messages',\n",
    "                'from_poi_to_this_person',\n",
    "                'from_this_person_to_poi',\n",
    "                'long_term_incentive',\n",
    "                'other',\n",
    "                'restricted_stock',\n",
    "                'restricted_stock_deferred',\n",
    "                'salary',\n",
    "                'shared_receipt_with_poi',\n",
    "                'to_messages',\n",
    "                'total_payments',\n",
    "                'total_stock_value',\n",
    "                'from_poi_pct',\n",
    "                'to_poi_pct'  \n",
    "               ]\n",
    "test_classifier(clf, my_dataset, to_from_features_list)"
   ]
  },
  {
   "cell_type": "markdown",
   "metadata": {},
   "source": [
    "Adding the 'from_poi_pct' and 'to_poi_pct' features seperately instead of the aggregated percentage has returned markedly improved results. \n",
    "\n",
    "Adding the loan advances feature back into this list yields the following scores:"
   ]
  },
  {
   "cell_type": "code",
   "execution_count": 169,
   "metadata": {
    "collapsed": false
   },
   "outputs": [
    {
     "name": "stdout",
     "output_type": "stream",
     "text": [
      "DecisionTreeClassifier(class_weight=None, criterion='gini', max_depth=None,\n",
      "            max_features=None, max_leaf_nodes=None, min_samples_leaf=1,\n",
      "            min_samples_split=2, min_weight_fraction_leaf=0.0,\n",
      "            random_state=None, splitter='best')\n",
      "\tAccuracy: 0.81340\tPrecision: 0.29711\tRecall: 0.29250\tF1: 0.29478\tF2: 0.29341\n",
      "\tTotal predictions: 15000\tTrue positives:  585\tFalse positives: 1384\tFalse negatives: 1415\tTrue negatives: 11616\n",
      "\n"
     ]
    }
   ],
   "source": [
    "final_features_list = ['poi',\n",
    "                'bonus',\n",
    "                'deferral_payments',\n",
    "                'deferred_income',\n",
    "                'director_fees',\n",
    "                'exercised_stock_options',\n",
    "                'expenses',\n",
    "                'from_messages',\n",
    "                'from_poi_to_this_person',\n",
    "                'from_this_person_to_poi',\n",
    "                'loan_advances',\n",
    "                'long_term_incentive',\n",
    "                'other',\n",
    "                'restricted_stock',\n",
    "                'restricted_stock_deferred',\n",
    "                'salary',\n",
    "                'shared_receipt_with_poi',\n",
    "                'to_messages',\n",
    "                'total_payments',\n",
    "                'total_stock_value',\n",
    "                'from_poi_pct',\n",
    "                'to_poi_pct'\n",
    "               ]\n",
    "test_classifier(clf, my_dataset, final_features_list)"
   ]
  },
  {
   "cell_type": "markdown",
   "metadata": {},
   "source": [
    "Adding loan_advances back into the list has actually worsened the scores. Since the best scores involve the list which includes two of the new features, to_poi_pct and from_poi_pct and excludes loan_advances, I'll use this list.\n",
    "\n",
    "Next I will take a look at the features in order of importance."
   ]
  },
  {
   "cell_type": "code",
   "execution_count": 170,
   "metadata": {
    "collapsed": false
   },
   "outputs": [
    {
     "name": "stdout",
     "output_type": "stream",
     "text": [
      "bonus 0.0\n",
      "deferral_payments 0.0\n",
      "deferred_income 0.0\n",
      "director_fees 0.0\n",
      "exercised_stock_options 0.333661385904\n",
      "expenses 0.0\n",
      "from_messages 0.0\n",
      "from_poi_to_this_person 0.0170077433628\n",
      "from_this_person_to_poi 0.0\n",
      "long_term_incentive 0.0\n",
      "other 0.0\n",
      "restricted_stock 0.124537409493\n",
      "restricted_stock_deferred 0.083283852811\n",
      "salary 0.0\n",
      "shared_receipt_with_poi 0.0\n",
      "to_messages 0.247721151492\n",
      "total_payments 0.0\n",
      "total_stock_value 0.0\n",
      "from_poi_pct 0.0662531605563\n",
      "to_poi_pct 0.0\n"
     ]
    }
   ],
   "source": [
    "index = 1\n",
    "\n",
    "\n",
    "for importance in clf.feature_importances_:\n",
    "    if index < len(to_from_features_list):\n",
    "        print to_from_features_list[index], importance\n",
    "        index += 1\n"
   ]
  },
  {
   "cell_type": "markdown",
   "metadata": {},
   "source": [
    "The most important feature appears to be exercised stock options and of the two new features, the 'from_poi_pct' has the most importance.\n",
    "\n",
    "So far I haven't needed to scale any features, since this does not affect the results of a decision tree classifier.\n",
    "\n",
    "\n",
    "## Selecting a Classifier\n",
    "\n",
    "The two classifiers that I will be testing are:\n",
    "1. Decision Tree Classifier\n",
    "2. Support Vector Machine SVC classifier\n",
    "\n",
    "I will be testing the results using each classifier, and then additionally I will use Ada Boost to try and further enhance the results.\n",
    "\n",
    "\n",
    "### Scaling Features\n",
    "\n",
    "So far the decision tree classifier has given us an F1, precision and recall scores of 0.3. I will try using the SVC classifier to try and improve on these scores. Since the data involves a number of different units of measurement, namely number of shares, number of emails, and monetary units, the SVC classifier requires me to scale the data as this may affect the results of the chosen algorithm.\n",
    "\n",
    "I will be using the MinMax Scaler for this task.\n",
    "\n",
    "The two steps outlined above can be combined into a pipeline for testing."
   ]
  },
  {
   "cell_type": "code",
   "execution_count": 171,
   "metadata": {
    "collapsed": false
   },
   "outputs": [
    {
     "name": "stdout",
     "output_type": "stream",
     "text": [
      "Pipeline(steps=[('scale', MinMaxScaler(copy=True, feature_range=(0, 1))), ('classify', SVC(C=1000, cache_size=200, class_weight=None, coef0=0.0, degree=3, gamma=0.0,\n",
      "  kernel='rbf', max_iter=-1, probability=False, random_state=None,\n",
      "  shrinking=True, tol=0.001, verbose=False))])\n",
      "\tAccuracy: 0.83800\tPrecision: 0.26374\tRecall: 0.12000\tF1: 0.16495\tF2: 0.13468\n",
      "\tTotal predictions: 15000\tTrue positives:  240\tFalse positives:  670\tFalse negatives: 1760\tTrue negatives: 12330\n",
      "\n"
     ]
    }
   ],
   "source": [
    "### Task 4: Try a varity of classifiers\n",
    "### Please name your classifier clf for easy export below.\n",
    "### Note that if you want to do PCA or other multi-stage operations,\n",
    "### you'll need to use Pipelines. For more info:\n",
    "### http://scikit-learn.org/stable/modules/pipeline.html\n",
    "\n",
    "# Provided to give you a starting point. Try a variety of classifiers.\n",
    "from sklearn.svm import SVC\n",
    "#clf = SVC(kernel=\"rbf\")\n",
    "\n",
    "svc_clf = Pipeline([('scale', MinMaxScaler()),('classify', SVC(C=1000,kernel=\"rbf\"))])\n",
    "\n",
    "test_classifier(svc_clf, my_dataset, to_from_features_list)"
   ]
  },
  {
   "cell_type": "markdown",
   "metadata": {
    "collapsed": true
   },
   "source": [
    "Using the SVC classifier has not improved the scores. \n",
    "\n",
    "However in the next step I will tune both the decision tree algorithm and the SVC algorithm to try and further improve both sets of results. \n",
    "\n",
    "\n",
    "### Parameter Tuning and Validation\n",
    "\n",
    "When testing the algorithm I will need to split the data into training and testing sets in order to validate the performance of the algorithm. This is known as validation. The split between training and testing needs to be carried out in a way that there is enough data for the algorithm to train on, but also enough for it to test it. I will be using StratifiedShuffleSplit when evaluating the algorithms, as suggested by the notes below, due to the small size of the dataset. StratifiedShuffleSplit is a cross validation iterator used to split the data into train/test sets. This method of validation randomly chooses training and test sets multiple times and averages the results over all of the tests. \n",
    "\n",
    "With the data being unbalanced, ie more non-POIs than POIs, StratifidShuffleSplit also ensures the ratio of non-POI:POI is the same in the training and test sets as it was in the larger data set.\n",
    "\n",
    "The chosen algorithms have so far used default parameters in the calculations, however, these parameters have not yet been tuned. Tuning an algorithm optimises the accuracy, if this is not done well, predictions will not be as accurate as they could be. Tuning the algorithms using GridSearchCV will identify the optimal parameters for each algorithm in order to further improve the results.\n",
    "\n"
   ]
  },
  {
   "cell_type": "code",
   "execution_count": 172,
   "metadata": {
    "collapsed": true
   },
   "outputs": [],
   "source": [
    "### Extract features and labels from dataset for local testing\n",
    "\n",
    "\n",
    "### Task 5: Tune your classifier to achieve better than .3 precision and recall \n",
    "### using our testing script. Check the tester.py script in the final project\n",
    "### folder for details on the evaluation method, especially the test_classifier\n",
    "### function. Because of the small size of the dataset, the script uses\n",
    "### stratified shuffle split cross validation. For more info: \n",
    "### http://scikit-learn.org/stable/modules/generated/sklearn.cross_validation.StratifiedShuffleSplit.html\n",
    "\n",
    "\n",
    "\n",
    "# Example starting point. Try investigating other evaluation techniques!\n",
    "#from sklearn.cross_validation import train_test_split\n",
    "#features_train, features_test, labels_train, labels_test = \\\n",
    "    #train_test_split(features, labels, test_size=0.3, random_state=42)\n",
    "    \n",
    "from sklearn.cross_validation import StratifiedShuffleSplit\n",
    "data = featureFormat(my_dataset, to_from_features_list, sort_keys = True)\n",
    "labels, features = targetFeatureSplit(data)\n",
    "folds = 1000\n",
    "cv = StratifiedShuffleSplit(\n",
    "     labels, folds, random_state=random)    "
   ]
  },
  {
   "cell_type": "markdown",
   "metadata": {},
   "source": [
    "I will start by tuning the decision tree classifier."
   ]
  },
  {
   "cell_type": "code",
   "execution_count": 178,
   "metadata": {
    "collapsed": false
   },
   "outputs": [
    {
     "name": "stdout",
     "output_type": "stream",
     "text": [
      "The best parameters are: {'max_features': 'sqrt', 'criterion': 'entropy'}\n",
      "The score of this combination of parameters was: 0.8232\n"
     ]
    }
   ],
   "source": [
    "from sklearn.grid_search import GridSearchCV\n",
    "\n",
    "parameters = {'criterion':('gini', 'entropy'), 'max_features':('auto','sqrt','log2',None)}\n",
    "tree = DecisionTreeClassifier()\n",
    "decision_tree_clf = GridSearchCV(tree, parameters, cv=cv)\n",
    "decision_tree_clf.fit(features, labels)\n",
    "\n",
    "print 'The best parameters are:', decision_tree_clf.best_params_\n",
    "print 'The score of this combination of parameters was:', decision_tree_clf.best_score_\n"
   ]
  },
  {
   "cell_type": "markdown",
   "metadata": {},
   "source": [
    "Testing the tuned classifier gives the following results:"
   ]
  },
  {
   "cell_type": "code",
   "execution_count": 185,
   "metadata": {
    "collapsed": false
   },
   "outputs": [
    {
     "name": "stdout",
     "output_type": "stream",
     "text": [
      "DecisionTreeClassifier(class_weight=None, criterion='entropy', max_depth=None,\n",
      "            max_features='sqrt', max_leaf_nodes=None, min_samples_leaf=1,\n",
      "            min_samples_split=2, min_weight_fraction_leaf=0.0,\n",
      "            random_state=None, splitter='best')\n",
      "\tAccuracy: 0.82267\tPrecision: 0.32704\tRecall: 0.31200\tF1: 0.31934\tF2: 0.31490\n",
      "\tTotal predictions: 15000\tTrue positives:  624\tFalse positives: 1284\tFalse negatives: 1376\tTrue negatives: 11716\n",
      "\n"
     ]
    }
   ],
   "source": [
    "decision_tree_classifier = DecisionTreeClassifier(criterion = 'entropy', max_features = 'sqrt')\n",
    "\n",
    "test_classifier(decision_tree_classifier, my_dataset, to_from_features_list)"
   ]
  },
  {
   "cell_type": "markdown",
   "metadata": {},
   "source": [
    "This has improved the results somewhat, with precision and recall moving closer to 0.33.\n",
    "\n",
    "Tuning the SVC classifier gives the following results:"
   ]
  },
  {
   "cell_type": "code",
   "execution_count": 186,
   "metadata": {
    "collapsed": false
   },
   "outputs": [
    {
     "name": "stdout",
     "output_type": "stream",
     "text": [
      "The best parameters are: {'classify__C': 100, 'classify__gamma': 0.01, 'classify__kernel': 'rbf'}\n",
      "The score of this combination of parameters was: 0.876266666667\n"
     ]
    }
   ],
   "source": [
    "#from sklearn.svm import SVC\n",
    "\n",
    "parameters = {\n",
    "            'classify__kernel':('rbf','linear', 'poly'),\n",
    "            'classify__C': [10,100,1000],\n",
    "            'classify__gamma': [0.001, 0.01, 0.1]\n",
    "              }\n",
    "\n",
    "svc_pipeline = Pipeline([('scale', MinMaxScaler()),('classify', SVC())])\n",
    "\n",
    "grid_svc_clf = GridSearchCV(svc_pipeline, parameters, cv=cv)\n",
    "grid_svc_clf.fit(features, labels)\n",
    "\n",
    "print 'The best parameters are:', grid_svc_clf.best_params_\n",
    "print 'The score of this combination of parameters was:', grid_svc_clf.best_score_\n"
   ]
  },
  {
   "cell_type": "code",
   "execution_count": 187,
   "metadata": {
    "collapsed": false
   },
   "outputs": [
    {
     "name": "stdout",
     "output_type": "stream",
     "text": [
      "Pipeline(steps=[('scale', MinMaxScaler(copy=True, feature_range=(0, 1))), ('classify', SVC(C=100, cache_size=200, class_weight=None, coef0=0.0, degree=3, gamma=0.01,\n",
      "  kernel='rbf', max_iter=-1, probability=False, random_state=None,\n",
      "  shrinking=True, tol=0.001, verbose=False))])\n",
      "\tAccuracy: 0.87400\tPrecision: 0.67405\tRecall: 0.10650\tF1: 0.18394\tF2: 0.12807\n",
      "\tTotal predictions: 15000\tTrue positives:  213\tFalse positives:  103\tFalse negatives: 1787\tTrue negatives: 12897\n",
      "\n"
     ]
    }
   ],
   "source": [
    "svc_clf = Pipeline([('scale', MinMaxScaler()),('classify', SVC(C=100,kernel=\"rbf\", gamma=0.01))])\n",
    "\n",
    "test_classifier(svc_clf, my_dataset, to_from_features_list)"
   ]
  },
  {
   "cell_type": "markdown",
   "metadata": {},
   "source": [
    "So far the best scores were from using the decision tree classifier using parameters 'sqrt' and 'entropy' for the max_features and criterion parameters respectively. One additional tool we can use is the Ada Boost classifier. This classifier can be used alongside others to improve performance by focussing on the more difficult to classify datapoints.\n",
    "\n",
    "The Ada Boost classifier can also be tuned to return the best parameters.\n",
    "\n",
    "### Ada Boost Classifier\n"
   ]
  },
  {
   "cell_type": "code",
   "execution_count": 132,
   "metadata": {
    "collapsed": false
   },
   "outputs": [
    {
     "name": "stdout",
     "output_type": "stream",
     "text": [
      "The best parameters are: {'n_estimators': 10, 'learning_rate': 2, 'algorithm': 'SAMME.R'}\n",
      "The score of this combination of parameters was: 0.824\n"
     ]
    }
   ],
   "source": [
    "from sklearn.ensemble import AdaBoostClassifier\n",
    "\n",
    "parameters = {'n_estimators': [10, 50, 80, 100], 'algorithm':('SAMME', 'SAMME.R'),\n",
    "              'learning_rate':[0.1, 0.5, 1, 2]}\n",
    "ada_boost = AdaBoostClassifier(DecisionTreeClassifier(criterion = 'gini', max_features = 'auto'))\n",
    "ada_boost_clf = GridSearchCV(ada_boost, parameters, cv=cv)\n",
    "ada_boost_clf.fit(features, labels)\n",
    "\n",
    "print 'The best parameters are:', ada_boost_clf.best_params_\n",
    "print 'The score of this combination of parameters was:', ada_boost_clf.best_score_\n"
   ]
  },
  {
   "cell_type": "code",
   "execution_count": 133,
   "metadata": {
    "collapsed": false
   },
   "outputs": [
    {
     "name": "stdout",
     "output_type": "stream",
     "text": [
      "AdaBoostClassifier(algorithm='SAMME.R',\n",
      "          base_estimator=DecisionTreeClassifier(class_weight=None, criterion='gini', max_depth=None,\n",
      "            max_features='auto', max_leaf_nodes=None, min_samples_leaf=1,\n",
      "            min_samples_split=2, min_weight_fraction_leaf=0.0,\n",
      "            random_state=None, splitter='best'),\n",
      "          learning_rate=2, n_estimators=10, random_state=None)\n",
      "\tAccuracy: 0.81807\tPrecision: 0.31240\tRecall: 0.30350\tF1: 0.30789\tF2: 0.30524\n",
      "\tTotal predictions: 15000\tTrue positives:  607\tFalse positives: 1336\tFalse negatives: 1393\tTrue negatives: 11664\n",
      "\n"
     ]
    }
   ],
   "source": [
    "ada_boost_classifier = AdaBoostClassifier(DecisionTreeClassifier(criterion = 'gini', max_features = 'auto'),\n",
    "                                         n_estimators=10, algorithm='SAMME.R', learning_rate=2)\n",
    "\n",
    "test_classifier(ada_boost_classifier, my_dataset, to_from_features_list)"
   ]
  },
  {
   "cell_type": "markdown",
   "metadata": {},
   "source": [
    "The Ada Boost classifier worsened the results and therefore won't be used in the final algorithm.\n",
    "\n",
    "\n",
    "## The Final Algorithm\n",
    "\n",
    "After testing the decision tree classifier, and the support vector machine SVC classifier, tuning each algorithm to obtain the best parameters and trying to further improve the results using the Ada Boost classifier I have found the best results with the following algorithm and parameters:\n",
    "\n",
    "Algorithm: Decision Tree Classifier\n",
    "\n",
    "Criterion: Entropy\n",
    "\n",
    "Max_Features: Sqrt\n",
    "\n",
    "This yields the following scores:\n",
    "\n",
    "Precision = 0.327\n",
    "\n",
    "Recall = 0.312\n",
    "\n",
    "F1 = 0.319\n",
    "\n",
    "Therefore, the algorithm is able to correctly identify a POI 32.7% of the time, and is able to identify 31.2% of POI's from the total number of POI's. There is still significant room for improvement with these scores, and perhaps by looking at the emails themselves and analysing the language used, implementing bag of words we could more accurately identify a POI.\n",
    "\n",
    "\n",
    "\n",
    "\n",
    "\n",
    "\n"
   ]
  }
 ],
 "metadata": {
  "kernelspec": {
   "display_name": "Python 2",
   "language": "python",
   "name": "python2"
  },
  "language_info": {
   "codemirror_mode": {
    "name": "ipython",
    "version": 2
   },
   "file_extension": ".py",
   "mimetype": "text/x-python",
   "name": "python",
   "nbconvert_exporter": "python",
   "pygments_lexer": "ipython2",
   "version": "2.7.11"
  }
 },
 "nbformat": 4,
 "nbformat_minor": 0
}
